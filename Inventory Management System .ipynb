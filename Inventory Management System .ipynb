{
 "cells": [
  {
   "cell_type": "code",
   "execution_count": 13,
   "id": "75352fce",
   "metadata": {},
   "outputs": [],
   "source": [
    "record = {'1001': {'name': 'pen', 'pr': 100 , 'qu': 10 , 'dis': 2},\n",
    "         '1002': {'name': 'pencil', 'pr': 10, 'qu': 2 , 'dis': 2},\n",
    "         '1003': {'name': 'handwash', 'pr': 80 , 'qu': 200 , 'dis': 2},\n",
    "         '1004': {'name': 'shampoo', 'pr': 170 , 'qu': 340 , 'dis': 3},\n",
    "         '1005': {'name': 'hair oil', 'pr': 60 , 'qu': 200 , 'dis': 4},\n",
    "         '1006': {'name': 'ponds', 'pr': 30 , 'qu': 100 , 'dis': 4},\n",
    "         '1007': {'name': 'groundnut oil', 'pr': 230 , 'qu': 10 , 'dis': 2},\n",
    "         '1008': {'name': 'washing powder', 'pr': 470 , 'qu': 5 , 'dis': 2},\n",
    "         '1009': {'name': 'chocolate cake ', 'pr': 400 , 'qu': 20 , 'dis': 5},\n",
    "         '1010': {'name': 'bournvita', 'pr': 300 , 'qu': 1 , 'dis': 5},\n",
    "         '1011': {'name': 'dishwasher', 'pr': 350 , 'qu': 5 , 'dis': 2},\n",
    "         '1012': {'name': 'dates', 'pr': 250 , 'qu': 500 , 'dis': 2},\n",
    "         '1013': {'name': 'oreo', 'pr': 100 , 'qu': 10 , 'dis': 5},\n",
    "         '1014': {'name': 'milk cake ', 'pr': 300 , 'qu': 30 , 'dis': 5},\n",
    "         '1015': {'name': 'frooti fruit drink ', 'pr': 100 , 'qu': 2 , 'dis': 5},\n",
    "         '1016': {'name': 'coco-cola', 'pr': 65 , 'qu': 1 , 'dis': 4},\n",
    "         '1017': {'name': 'cadbury dairy milk', 'pr': 456 , 'qu': 3 , 'dis': 5},\n",
    "         '1018': {'name': 'ferrero rocher ', 'pr': 296 , 'qu': 139 , 'dis': 5},\n",
    "         '1019': {'name': 'teddy' , 'pr': 609 ,'qu':1,'dis':4},\n",
    "         '1020': {'name': 'minicartoon mirror' , 'pr': 329 ,'qu':1,'dis':4},\n",
    "         '1021': {'name': 'makeup bursh set' , 'pr': 199 ,'qu':1,'dis':4}, \n",
    "         '1022': {'name': 'wallet' , 'pr': 500 ,'qu':2,'dis':4},\n",
    "         '1023': {'name': 'waterbottle' , 'pr': 790 ,'qu':6,'dis':3},\n",
    "         '1024': {'name': 'powerbank' , 'pr': 780 ,'qu':1,'dis':2},\n",
    "         '1025': {'name': 'hairdryer' , 'pr': 399 ,'qu':1,'dis':4},\n",
    "         '1026': {'name': 'camera', 'pr':29329, 'qu': 1 , 'dis': 5},\n",
    "         '1027': {'name': 'watches', 'pr': 1500 , 'qu': 5 , 'dis': 2},\n",
    "         '1028': {'name': 'handbags', 'pr': 789 , 'qu': 1 , 'dis': 2},\n",
    "         '1029': {'name': 'headphones', 'pr': 1000 , 'qu': 2, 'dis': 5},\n",
    "         '1030': {'name': 'candy', 'pr':100, 'qu': 50 , 'dis': 5}}"
   ]
  },
  {
   "cell_type": "markdown",
   "id": "20cd289f",
   "metadata": {},
   "source": [
    "# Read data from json"
   ]
  },
  {
   "cell_type": "code",
   "execution_count": 16,
   "id": "c6215c8e",
   "metadata": {},
   "outputs": [],
   "source": [
    "import json\n",
    "\n",
    "fd = open(\"record.json\",'r')\n",
    "r = fd.read()\n",
    "fd.close()\n",
    "\n",
    "record = json.loads(r)\n",
    "\n"
   ]
  },
  {
   "cell_type": "code",
   "execution_count": 17,
   "id": "b84735fc",
   "metadata": {},
   "outputs": [
    {
     "data": {
      "text/plain": [
       "{'1001': {'name': 'pen', 'pr': 100, 'qu': 10, 'dis': 2},\n",
       " '1002': {'name': 'pencil', 'pr': 10, 'qu': 2, 'dis': 2},\n",
       " '1003': {'name': 'handwash', 'pr': 80, 'qu': 200, 'dis': 2},\n",
       " '1004': {'name': 'shampoo', 'pr': 170, 'qu': 340, 'dis': 3},\n",
       " '1005': {'name': 'hair oil', 'pr': 60, 'qu': 200, 'dis': 4},\n",
       " '1006': {'name': 'ponds', 'pr': 30, 'qu': 100, 'dis': 4},\n",
       " '1007': {'name': 'groundnut oil', 'pr': 230, 'qu': 10, 'dis': 2},\n",
       " '1008': {'name': 'washing powder', 'pr': 470, 'qu': 5, 'dis': 2},\n",
       " '1009': {'name': 'chocolate cake ', 'pr': 400, 'qu': 20, 'dis': 5},\n",
       " '1010': {'name': 'bourn|vita', 'pr': 300, 'qu': 1, 'dis': 5},\n",
       " '1011': {'name': 'dishwasher', 'pr': 350, 'qu': 5, 'dis': 2},\n",
       " '1012': {'name': 'dates', 'pr': 250, 'qu': 500, 'dis': 2},\n",
       " '1013': {'name': 'oreo', 'pr': 100, 'qu': 10, 'dis': 5},\n",
       " '1014': {'name': 'milk cake ', 'pr': 300, 'qu': 30, 'dis': 5},\n",
       " '1015': {'name': 'frooti fruit drink ', 'pr': 100, 'qu': 2, 'dis': 5},\n",
       " '1016': {'name': 'coco-cola', 'pr': 65, 'qu': 1, 'dis': 4},\n",
       " '1017': {'name': 'cadbury dairy milk', 'pr': 456, 'qu': 3, 'dis': 5},\n",
       " '1018': {'name': 'ferrero rocher ', 'pr': 296, 'qu': 139, 'dis': 5},\n",
       " '1019': {'name': 'teddy', 'pr': 609, 'qu': 1, 'dis': 4},\n",
       " '1020': {'name': 'minicartoon mirror', 'pr': 329, 'qu': 1, 'dis': 4},\n",
       " '1021': {'name': 'makeup bursh set', 'pr': 199, 'qu': 1, 'dis': 4},\n",
       " '1022': {'name': 'wallet', 'pr': 500, 'qu': 2, 'dis': 4},\n",
       " '1023': {'name': 'waterbottle', 'pr': 790, 'qu': 6, 'dis': 3},\n",
       " '1024': {'name': 'powerbank', 'pr': 780, 'qu': 1, 'dis': 2},\n",
       " '1025': {'name': 'hairdryer', 'pr': 399, 'qu': 1, 'dis': 4},\n",
       " '1026': {'name': 'camera', 'pr': 29329, 'qu': 1, 'dis': 5},\n",
       " '1027': {'name': 'watches', 'pr': 1500, 'qu': 5, 'dis': 2},\n",
       " '1028': {'name': 'handbags', 'pr': 789, 'qu': 0, 'dis': 2},\n",
       " '1029': {'name': 'headphones', 'pr': 1000, 'qu': 2, 'dis': 5},\n",
       " '1030': {'name': 'candy', 'pr': 100, 'qu': 50, 'dis': 5}}"
      ]
     },
     "execution_count": 17,
     "metadata": {},
     "output_type": "execute_result"
    }
   ],
   "source": [
    "record"
   ]
  },
  {
   "cell_type": "markdown",
   "id": "5b575642",
   "metadata": {},
   "source": [
    "# Add products to inventory"
   ]
  },
  {
   "cell_type": "code",
   "execution_count": 4,
   "id": "22557520",
   "metadata": {},
   "outputs": [
    {
     "name": "stdout",
     "output_type": "stream",
     "text": [
      "Enter product id:1031\n",
      "Enter name:lipstick\n",
      "Enter price:300\n",
      "Enter quantity:6\n",
      "Enter discount :1\n"
     ]
    }
   ],
   "source": [
    "prod_id = str(input(\"Enter product id:\"))\n",
    "name = str(input(\"Enter name:\"))\n",
    "pr = int(input(\"Enter price:\"))\n",
    "qu = int(input(\"Enter quantity:\"))\n",
    "dis = int(input(\"Enter discount :\"))"
   ]
  },
  {
   "cell_type": "code",
   "execution_count": 18,
   "id": "30826e51",
   "metadata": {},
   "outputs": [
    {
     "data": {
      "text/plain": [
       "{'1031': {'name': 'lipstick', 'pr': 300, 'qu': 6, 'dis': 1}}"
      ]
     },
     "execution_count": 18,
     "metadata": {},
     "output_type": "execute_result"
    }
   ],
   "source": [
    "{prod_id : {'name':name, 'pr':pr, 'qu': qu , 'dis':dis}}"
   ]
  },
  {
   "cell_type": "code",
   "execution_count": 19,
   "id": "65e52fe1",
   "metadata": {},
   "outputs": [],
   "source": [
    "record[prod_id] ={'name': name, 'pr': pr, 'qu': qu, 'dis':dis}"
   ]
  },
  {
   "cell_type": "code",
   "execution_count": 21,
   "id": "84bc69c0",
   "metadata": {
    "scrolled": true
   },
   "outputs": [
    {
     "data": {
      "text/plain": [
       "{'1001': {'name': 'pen', 'pr': 100, 'qu': 10, 'dis': 2},\n",
       " '1002': {'name': 'pencil', 'pr': 10, 'qu': 2, 'dis': 2},\n",
       " '1003': {'name': 'handwash', 'pr': 80, 'qu': 200, 'dis': 2},\n",
       " '1004': {'name': 'shampoo', 'pr': 170, 'qu': 340, 'dis': 3},\n",
       " '1005': {'name': 'hair oil', 'pr': 60, 'qu': 200, 'dis': 4},\n",
       " '1006': {'name': 'ponds', 'pr': 30, 'qu': 100, 'dis': 4},\n",
       " '1007': {'name': 'groundnut oil', 'pr': 230, 'qu': 10, 'dis': 2},\n",
       " '1008': {'name': 'washing powder', 'pr': 470, 'qu': 5, 'dis': 2},\n",
       " '1009': {'name': 'chocolate cake ', 'pr': 400, 'qu': 20, 'dis': 5},\n",
       " '1010': {'name': 'bourn|vita', 'pr': 300, 'qu': 1, 'dis': 5},\n",
       " '1011': {'name': 'dishwasher', 'pr': 350, 'qu': 5, 'dis': 2},\n",
       " '1012': {'name': 'dates', 'pr': 250, 'qu': 500, 'dis': 2},\n",
       " '1013': {'name': 'oreo', 'pr': 100, 'qu': 10, 'dis': 5},\n",
       " '1014': {'name': 'milk cake ', 'pr': 300, 'qu': 30, 'dis': 5},\n",
       " '1015': {'name': 'frooti fruit drink ', 'pr': 100, 'qu': 2, 'dis': 5},\n",
       " '1016': {'name': 'coco-cola', 'pr': 65, 'qu': 1, 'dis': 4},\n",
       " '1017': {'name': 'cadbury dairy milk', 'pr': 456, 'qu': 3, 'dis': 5},\n",
       " '1018': {'name': 'ferrero rocher ', 'pr': 296, 'qu': 139, 'dis': 5},\n",
       " '1019': {'name': 'teddy', 'pr': 609, 'qu': 1, 'dis': 4},\n",
       " '1020': {'name': 'minicartoon mirror', 'pr': 329, 'qu': 1, 'dis': 4},\n",
       " '1021': {'name': 'makeup bursh set', 'pr': 199, 'qu': 1, 'dis': 4},\n",
       " '1022': {'name': 'wallet', 'pr': 500, 'qu': 2, 'dis': 4},\n",
       " '1023': {'name': 'waterbottle', 'pr': 790, 'qu': 6, 'dis': 3},\n",
       " '1024': {'name': 'powerbank', 'pr': 780, 'qu': 1, 'dis': 2},\n",
       " '1025': {'name': 'hairdryer', 'pr': 399, 'qu': 1, 'dis': 4},\n",
       " '1026': {'name': 'camera', 'pr': 29329, 'qu': 1, 'dis': 5},\n",
       " '1027': {'name': 'watches', 'pr': 1500, 'qu': 5, 'dis': 2},\n",
       " '1028': {'name': 'handbags', 'pr': 789, 'qu': 0, 'dis': 2},\n",
       " '1029': {'name': 'headphones', 'pr': 1000, 'qu': 2, 'dis': 5},\n",
       " '1030': {'name': 'candy', 'pr': 100, 'qu': 50, 'dis': 5},\n",
       " '1031': {'name': 'lipstick', 'pr': 300, 'qu': 6, 'dis': 1}}"
      ]
     },
     "execution_count": 21,
     "metadata": {},
     "output_type": "execute_result"
    }
   ],
   "source": [
    "record"
   ]
  },
  {
   "cell_type": "markdown",
   "id": "feddd401",
   "metadata": {},
   "source": [
    "# purchase and billing of customers"
   ]
  },
  {
   "cell_type": "code",
   "execution_count": 22,
   "id": "3940edd6",
   "metadata": {},
   "outputs": [
    {
     "name": "stdout",
     "output_type": "stream",
     "text": [
      "----------------------------------------------\n",
      "Enter the product_Id: 1019\n",
      "Enter the quantity: 1\n",
      "Enter Discount on product : 4\n",
      "Product id:  teddy\n",
      "Price:  609\n",
      "Discount:   4\n",
      "**********************************************************************\n",
      "Billing Amount:  24.36\n",
      "**********************************************************************\n",
      "----------------------------------------------\n"
     ]
    }
   ],
   "source": [
    "\n",
    "print('----------------------------------------------')\n",
    "ui_prod  = str(input(\"Enter the product_Id: \"))\n",
    "ui_quant = int(input(\"Enter the quantity: \"))\n",
    "ui_dis = int(input(\"Enter Discount on product : \"))\n",
    "\n",
    "\n",
    "print(\"Product id: \", record[ui_prod]['name'])\n",
    "print(\"Price: \",record[ui_prod]['pr'])\n",
    "print(\"Discount:  \",record[ui_prod]['dis'])\n",
    "print('**********************************************************************')\n",
    "print(\"Billing Amount: \", record[ui_prod]['pr'] * ui_quant*(ui_dis/100))\n",
    "print('**********************************************************************')\n",
    "print('----------------------------------------------')\n",
    "record[ui_prod]['qu'] = record[ui_prod]['qu'] - ui_quant"
   ]
  },
  {
   "cell_type": "markdown",
   "id": "c0c7999c",
   "metadata": {},
   "source": [
    "# Update after purchase"
   ]
  },
  {
   "cell_type": "code",
   "execution_count": 24,
   "id": "6921143d",
   "metadata": {},
   "outputs": [],
   "source": [
    "js = json.dumps(record)\n",
    "\n",
    "fd = open(\"record.json\",'w')\n",
    "fd.write(js)\n",
    "fd.close()"
   ]
  },
  {
   "cell_type": "code",
   "execution_count": 25,
   "id": "dbe8e142",
   "metadata": {},
   "outputs": [
    {
     "data": {
      "text/plain": [
       "{'1001': {'name': 'pen', 'pr': 100, 'qu': 10, 'dis': 2},\n",
       " '1002': {'name': 'pencil', 'pr': 10, 'qu': 2, 'dis': 2},\n",
       " '1003': {'name': 'handwash', 'pr': 80, 'qu': 200, 'dis': 2},\n",
       " '1004': {'name': 'shampoo', 'pr': 170, 'qu': 340, 'dis': 3},\n",
       " '1005': {'name': 'hair oil', 'pr': 60, 'qu': 200, 'dis': 4},\n",
       " '1006': {'name': 'ponds', 'pr': 30, 'qu': 100, 'dis': 4},\n",
       " '1007': {'name': 'groundnut oil', 'pr': 230, 'qu': 10, 'dis': 2},\n",
       " '1008': {'name': 'washing powder', 'pr': 470, 'qu': 5, 'dis': 2},\n",
       " '1009': {'name': 'chocolate cake ', 'pr': 400, 'qu': 20, 'dis': 5},\n",
       " '1010': {'name': 'bourn|vita', 'pr': 300, 'qu': 1, 'dis': 5},\n",
       " '1011': {'name': 'dishwasher', 'pr': 350, 'qu': 5, 'dis': 2},\n",
       " '1012': {'name': 'dates', 'pr': 250, 'qu': 500, 'dis': 2},\n",
       " '1013': {'name': 'oreo', 'pr': 100, 'qu': 10, 'dis': 5},\n",
       " '1014': {'name': 'milk cake ', 'pr': 300, 'qu': 30, 'dis': 5},\n",
       " '1015': {'name': 'frooti fruit drink ', 'pr': 100, 'qu': 2, 'dis': 5},\n",
       " '1016': {'name': 'coco-cola', 'pr': 65, 'qu': 1, 'dis': 4},\n",
       " '1017': {'name': 'cadbury dairy milk', 'pr': 456, 'qu': 3, 'dis': 5},\n",
       " '1018': {'name': 'ferrero rocher ', 'pr': 296, 'qu': 139, 'dis': 5},\n",
       " '1019': {'name': 'teddy', 'pr': 609, 'qu': 0, 'dis': 4},\n",
       " '1020': {'name': 'minicartoon mirror', 'pr': 329, 'qu': 1, 'dis': 4},\n",
       " '1021': {'name': 'makeup bursh set', 'pr': 199, 'qu': 1, 'dis': 4},\n",
       " '1022': {'name': 'wallet', 'pr': 500, 'qu': 2, 'dis': 4},\n",
       " '1023': {'name': 'waterbottle', 'pr': 790, 'qu': 6, 'dis': 3},\n",
       " '1024': {'name': 'powerbank', 'pr': 780, 'qu': 1, 'dis': 2},\n",
       " '1025': {'name': 'hairdryer', 'pr': 399, 'qu': 1, 'dis': 4},\n",
       " '1026': {'name': 'camera', 'pr': 29329, 'qu': 1, 'dis': 5},\n",
       " '1027': {'name': 'watches', 'pr': 1500, 'qu': 5, 'dis': 2},\n",
       " '1028': {'name': 'handbags', 'pr': 789, 'qu': 0, 'dis': 2},\n",
       " '1029': {'name': 'headphones', 'pr': 1000, 'qu': 2, 'dis': 5},\n",
       " '1030': {'name': 'candy', 'pr': 100, 'qu': 50, 'dis': 5},\n",
       " '1031': {'name': 'lipstick', 'pr': 300, 'qu': 6, 'dis': 1}}"
      ]
     },
     "execution_count": 25,
     "metadata": {},
     "output_type": "execute_result"
    }
   ],
   "source": [
    "record"
   ]
  },
  {
   "cell_type": "markdown",
   "id": "34a03bd8",
   "metadata": {},
   "source": [
    "# sales of json"
   ]
  },
  {
   "cell_type": "code",
   "execution_count": 27,
   "id": "c6918bbf",
   "metadata": {},
   "outputs": [
    {
     "data": {
      "text/plain": [
       "{'prod': '1019', 'qu': 1, 'amount': 609}"
      ]
     },
     "execution_count": 27,
     "metadata": {},
     "output_type": "execute_result"
    }
   ],
   "source": [
    "{'prod' : ui_prod, 'qu' : ui_quant, 'amount': record[ui_prod]['pr'] * ui_quant}"
   ]
  },
  {
   "cell_type": "code",
   "execution_count": null,
   "id": "b7b08461",
   "metadata": {},
   "outputs": [],
   "source": []
  }
 ],
 "metadata": {
  "kernelspec": {
   "display_name": "Python 3",
   "language": "python",
   "name": "python3"
  },
  "language_info": {
   "codemirror_mode": {
    "name": "ipython",
    "version": 3
   },
   "file_extension": ".py",
   "mimetype": "text/x-python",
   "name": "python",
   "nbconvert_exporter": "python",
   "pygments_lexer": "ipython3",
   "version": "3.8.8"
  }
 },
 "nbformat": 4,
 "nbformat_minor": 5
}
